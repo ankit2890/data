{
 "cells": [
  {
   "cell_type": "markdown",
   "id": "4ed4034a-0398-469b-813a-2a360c185ebb",
   "metadata": {},
   "source": [
    "1.) Explain with an example each when to use a for loop and a while loop"
   ]
  },
  {
   "cell_type": "code",
   "execution_count": 3,
   "id": "6107cc4e-975a-4186-9fa8-d5bd50ffc85e",
   "metadata": {},
   "outputs": [
    {
     "name": "stdout",
     "output_type": "stream",
     "text": [
      "pen\n",
      "pencil\n",
      "banana\n",
      "cherry\n"
     ]
    }
   ],
   "source": [
    "## 'for' loops are used when you want to iterate over a sequence (such as a list,tuple or string) and execute the same\n",
    "#    block of code for each item in the sequence. For example:\n",
    "fruits = ['pen','pencil', 'banana', 'cherry']\n",
    "for fruit in fruits:\n",
    "    print(fruit)"
   ]
  },
  {
   "cell_type": "code",
   "execution_count": 2,
   "id": "de279b68-f97a-4c51-8257-d010ddd8e26f",
   "metadata": {},
   "outputs": [
    {
     "name": "stdout",
     "output_type": "stream",
     "text": [
      "0\n",
      "1\n",
      "2\n",
      "3\n",
      "4\n"
     ]
    }
   ],
   "source": [
    "# While loop are used when you want to execute a block of code repeatedly as long as a certin condition is met. For example:\n",
    "count = 0\n",
    "while count < 5:\n",
    "    print(count)\n",
    "    count +=1"
   ]
  },
  {
   "cell_type": "markdown",
   "id": "2e9e571c-7978-456d-b1a1-40d5ad404104",
   "metadata": {},
   "source": [
    "2.) WAP to print the sum and product of the first 10 natural numbers using for and while loop.\n",
    "\n",
    "\n"
   ]
  },
  {
   "cell_type": "code",
   "execution_count": 5,
   "id": "ff16b1b5-b5e2-4bab-9e8f-53285149e4d5",
   "metadata": {},
   "outputs": [
    {
     "name": "stdin",
     "output_type": "stream",
     "text": [
      "Please enter the Number:  10\n"
     ]
    },
    {
     "name": "stdout",
     "output_type": "stream",
     "text": [
      "The sum of first 10 natural number is:  55\n"
     ]
    }
   ],
   "source": [
    "# using while  loops:-\n",
    "num = int(input('Please enter the Number: '))\n",
    "\n",
    "if num<0:\n",
    "    print('Please enter Positive Number: ')\n",
    "else:\n",
    "    sum=0\n",
    "    while num>0:\n",
    "        sum +=num\n",
    "        num -= 1\n",
    "    print('The sum of first 10 natural number is: ',sum)    \n"
   ]
  },
  {
   "cell_type": "code",
   "execution_count": 6,
   "id": "54bb993f-4306-4995-8307-29b8b4f3e5c9",
   "metadata": {},
   "outputs": [
    {
     "name": "stdout",
     "output_type": "stream",
     "text": [
      "The product of first 10 natural number is:  3628800\n"
     ]
    }
   ],
   "source": [
    "# using while  loops:-\n",
    "product = 1\n",
    "i=1\n",
    "while i<= 10:\n",
    "    product *=i\n",
    "    i +=1 \n",
    "print('The product of first 10 natural number is: ', product)"
   ]
  },
  {
   "cell_type": "code",
   "execution_count": 7,
   "id": "d46d4bd2-db73-4906-a643-01fc5b852fac",
   "metadata": {},
   "outputs": [
    {
     "name": "stdout",
     "output_type": "stream",
     "text": [
      "The product of first 10 natural number is:  3628800\n",
      "The sum of first 10 natural number is:  10\n"
     ]
    }
   ],
   "source": [
    "# using for  loops:-\n",
    "sum =0\n",
    "product = 1\n",
    "i=1\n",
    "for i in range(1,11):\n",
    "    product *=i\n",
    "    sum  +=1 \n",
    "print('The product of first 10 natural number is: ', product)\n",
    "print('The sum of first 10 natural number is: ', sum)"
   ]
  },
  {
   "cell_type": "markdown",
   "id": "4df0156b-a9f9-445a-b30f-6845e9d48796",
   "metadata": {},
   "source": [
    "3.) WAP to compute the electricity bill for a household."
   ]
  },
  {
   "cell_type": "code",
   "execution_count": 12,
   "id": "cf011c82-2560-49d0-b6ce-156a36e805dc",
   "metadata": {},
   "outputs": [
    {
     "name": "stdin",
     "output_type": "stream",
     "text": [
      "Enter the numbers of units consumed:  350\n"
     ]
    },
    {
     "name": "stdout",
     "output_type": "stream",
     "text": [
      "Enter the numbers of units consumed:  units 350\n",
      "Your Electricity  bill is: 3050.0 Rupees\n"
     ]
    }
   ],
   "source": [
    "units = int(input(\"Enter the numbers of units consumed: \"))\n",
    "print(\"Enter the numbers of units consumed:  units\",units)\n",
    "def electricity(units):\n",
    "    bill = 0\n",
    "    if units <= 100:\n",
    "        bill = units *4.5\n",
    "    elif units <=200:\n",
    "        bill = units*4.5 +(units-100)*6\n",
    "    elif units <=300:\n",
    "        bill = 100*4.5+100*6+(units-200)*10\n",
    "    else:\n",
    "        bill = 100*4.5+100*6+ 100*10 +(units-300)*20\n",
    "    return bill\n",
    "\n",
    "print(\"Your Electricity  bill is:\",electricity(units),\"Rupees\")"
   ]
  },
  {
   "cell_type": "markdown",
   "id": "c2053279-7df6-44ca-8a6a-4f2a6a62463d",
   "metadata": {},
   "source": [
    "4.) Create a list of numbers from 1-100. use for loop and while loop to calculate the cube of each number and if the cube of that number is divisible by 4 or 5 then append that number in a list and print that list."
   ]
  },
  {
   "cell_type": "code",
   "execution_count": 9,
   "id": "07732edc-c66a-49b9-86f6-f43a08c7538c",
   "metadata": {},
   "outputs": [
    {
     "name": "stdout",
     "output_type": "stream",
     "text": [
      "List of cube that are divisible by 4 or 5 is : [8, 64, 125, 216, 512, 1000, 1728, 2744, 3375, 4096, 5832, 8000, 10648, 13824, 15625, 17576, 21952, 27000, 32768, 39304, 42875, 46656, 54872, 64000, 74088, 85184, 91125, 97336, 110592, 125000, 140608, 157464, 166375, 175616, 195112, 216000, 238328, 262144, 274625, 287496, 314432, 343000, 373248, 405224, 421875, 438976, 474552, 512000, 551368, 592704, 614125, 636056, 681472, 729000, 778688, 830584, 857375, 884736, 941192, 1000000]\n"
     ]
    }
   ],
   "source": [
    "l=[]\n",
    "for i in range(1,101):\n",
    "    cube = i**3\n",
    "    if cube % 4 == 0 or cube % 5 == 0:\n",
    "        l.append(cube)\n",
    "print(\"List of cube that are divisible by 4 or 5 is :\",l)"
   ]
  },
  {
   "cell_type": "markdown",
   "id": "33fd0327-a247-4e27-a1ab-12993798038a",
   "metadata": {},
   "source": [
    "5.) WAP to filter count vowels in the below-given string. string = \"I want to become a data scientist\""
   ]
  },
  {
   "cell_type": "code",
   "execution_count": 11,
   "id": "0fe6fc4c-d41e-46c8-964c-c6214915d24b",
   "metadata": {},
   "outputs": [
    {
     "name": "stdout",
     "output_type": "stream",
     "text": [
      "Number of vowels in given string is:  12\n"
     ]
    }
   ],
   "source": [
    "a=\"I want to become a data scientist\"\n",
    "vowels = [\"a\",\"e\",\"i\",\"o\",\"u\",\"A\",\"E\",\"I\",\"O\",\"U\"]\n",
    "count = 0\n",
    "\n",
    "for character in a:\n",
    "    if character in vowels:\n",
    "        count += 1\n",
    "print(\"Number of vowels in given string is: \",count)\n"
   ]
  },
  {
   "cell_type": "code",
   "execution_count": null,
   "id": "21f91ec1-b4a6-4540-a6a2-13831730b061",
   "metadata": {},
   "outputs": [],
   "source": []
  }
 ],
 "metadata": {
  "kernelspec": {
   "display_name": "Python 3 (ipykernel)",
   "language": "python",
   "name": "python3"
  },
  "language_info": {
   "codemirror_mode": {
    "name": "ipython",
    "version": 3
   },
   "file_extension": ".py",
   "mimetype": "text/x-python",
   "name": "python",
   "nbconvert_exporter": "python",
   "pygments_lexer": "ipython3",
   "version": "3.10.8"
  }
 },
 "nbformat": 4,
 "nbformat_minor": 5
}
